{
 "cells": [
  {
   "cell_type": "code",
   "execution_count": 2,
   "id": "91286a43",
   "metadata": {},
   "outputs": [],
   "source": [
    "# Importing Libraries\n",
    "import pandas as pd\n",
    "import numpy as np\n",
    "import seaborn as sns\n",
    "import tensorflow as tf\n",
    "import plotly.express as ex\n",
    "import matplotlib.pyplot as plt\n",
    "from sklearn.metrics import confusion_matrix, accuracy_score\n",
    "from sklearn.model_selection import cross_val_score\n"
   ]
  },
  {
   "cell_type": "code",
   "execution_count": 3,
   "id": "ecbf6075",
   "metadata": {},
   "outputs": [],
   "source": [
    "# Function for confusion matrix\n",
    "def confusion_matrix_visualization(model_name, color_seq):\n",
    "    group_names = ['True Neg','False Pos','False Neg','True Pos']\n",
    "\n",
    "    group_percentages = [\"{0:.2%}\".format(value) for value in\n",
    "                         cm.flatten()/np.sum(cm)]\n",
    "\n",
    "    labels = [f\"{v1}\\n{v2}\" for v1, v2, in\n",
    "              zip(group_names, group_percentages)]\n",
    "\n",
    "    labels = np.asarray(labels).reshape(2,2)\n",
    "\n",
    "    ax = sns.heatmap(cm, annot = labels, fmt = '' , cmap = color_seq)\n",
    "\n",
    "    ax.set_title('Confusion Matrix for ' + model_name + ' Classifier')\n",
    "    ax.set_xlabel('Predicted Values')\n",
    "    ax.set_ylabel('Actual Values')\n",
    "\n",
    "    ax.xaxis.set_ticklabels(['False','True'])\n",
    "    ax.yaxis.set_ticklabels(['False','True'])\n",
    "    plt.show()"
   ]
  },
  {
   "cell_type": "code",
   "execution_count": 4,
   "id": "8fed5ed6",
   "metadata": {},
   "outputs": [],
   "source": [
    "# Load dataset\n",
    "df = pd.read_csv(\"D:/Hack_sert/Downsampled_data.csv\")\n",
    "#df = df.fillna(df.mean())\n",
    "#print(np.shape(df))\n",
    "#print(df.head())\n",
    "# Impute Missing Values with Label Matching Mean\n",
    "# Impute Missing Values with Label Matching Mean\n",
    "for col in ['Sulfate','ph','Trihalomethanes']:\n",
    "    missing_label_0 = df.query('Potability == 0')[col][df[col].isna()].index\n",
    "    df.loc[missing_label_0,col] = df.query('Potability == 0')[col][df[col].notna()].mean()\n",
    "\n",
    "    missing_label_1 = df.query('Potability == 1')[col][df[col].isna()].index\n",
    "    df.loc[missing_label_1,col] = df.query('Potability == 1')[col][df[col].notna()].mean()            \n",
    "                                                                   \n",
    "X = df.iloc[:,:-1].values\n",
    "y = df.iloc[:,-1].values\n"
   ]
  },
  {
   "cell_type": "code",
   "execution_count": 5,
   "id": "3c2b8ac5",
   "metadata": {},
   "outputs": [],
   "source": [
    "# Splititng Train and Test dataset\n",
    "from sklearn.model_selection import train_test_split\n",
    "X_train,X_test,y_train,y_test = train_test_split(X, y, test_size = 0.2, random_state = 0, shuffle = True)\n"
   ]
  },
  {
   "cell_type": "markdown",
   "id": "e4c8c5f9",
   "metadata": {},
   "source": [
    " <h1>Standardization</h1>\n",
    "<p>Standardization is another scaling technique where the values are centered around the mean with a unit standard deviation. This means that the mean of the attribute becomes zero and the resultant distribution has a unit standard deviation.</p>\n",
    "\n",
    "<p>Here’s the formula for standardization:</p>\n",
    "<img src=\"https://cdn.analyticsvidhya.com/wp-content/uploads/2020/03/Stand_eq.gif\">\n",
    "<p>where µ is the mean of the feature values and σ is the standard deviation of the feature values. Note that in this case, the values are not restricted to a particular range.</p>\n",
    "\n",
    "\n"
   ]
  },
  {
   "cell_type": "code",
   "execution_count": 6,
   "id": "afdd684f",
   "metadata": {},
   "outputs": [],
   "source": [
    "# Scaling\n",
    "from sklearn.preprocessing import StandardScaler\n",
    "sc = StandardScaler()\n",
    "X_train = sc.fit_transform(X_train)\n",
    "X_test = sc.transform(X_test)"
   ]
  },
  {
   "cell_type": "markdown",
   "id": "cf76bfb4",
   "metadata": {},
   "source": [
    "<h2>Logistic Regression</h2>\n",
    "<p>Logistic regression is a classification algorithm used to assign observations to a discrete set of classes.Logistic regression transforms its output using the logistic sigmoid function to return a probability value</p>\n",
    "<p>Logistic Regression is a Machine Learning algorithm which is used for the classification problems, it is a predictive analysis algorithm and based on the concept of probability.</p>\n",
    "<p>Logistic regression predicts the output of a categorical dependent variable. Therefore the outcome must be a categorical or discrete value. It can be either Yes or No, 0 or 1, true or False, etc. but instead of giving the exact value as 0 and 1, it gives the probabilistic values which lie between 0 and 1.</p>\n",
    "    Logistic regression hypothesis expectation </p>\n",
    "<img src = \"https://miro.medium.com/max/446/1*GnceHPIeThNShGSmYzE4eA.png\">\n",
    "<p>The Hypothesis of logistic regression,</p>\n",
    "<img src = \"https://miro.medium.com/max/1046/1*l59BUnPwWHMf1H-GNxgZHQ.png\" width=\"300\" height=\"100\">\n",
    "\n"
   ]
  },
  {
   "cell_type": "code",
   "execution_count": 7,
   "id": "c8cab6f2",
   "metadata": {},
   "outputs": [],
   "source": [
    "# ....Training Logistic Regression model..... \n",
    "from sklearn.linear_model import LogisticRegression\n",
    "classifier = LogisticRegression(random_state = 0)\n",
    "classifier.fit(X_train, y_train)\n",
    "\n",
    "y_pred = classifier.predict(X_test)"
   ]
  },
  {
   "cell_type": "code",
   "execution_count": 8,
   "id": "a098e73b",
   "metadata": {},
   "outputs": [
    {
     "name": "stdout",
     "output_type": "stream",
     "text": [
      "``````````````````````````````````````````````````````\n",
      "\n",
      "Logistic Regression Classifier model\n",
      "\n",
      "Confusion Matrix for Logistic Regression Classifier model\n",
      " [[139 124]\n",
      " [107 142]]\n",
      "\n",
      "\n",
      "Accuracy Score for Logistic Regression Classifier model\n",
      " 0.548828125\n"
     ]
    }
   ],
   "source": [
    "# Confusion matrix for Logistic Regression Classifier\n",
    "from sklearn.metrics import confusion_matrix, accuracy_score\n",
    "cm = confusion_matrix(y_test, y_pred)\n",
    "print(\"``````````````````````````````````````````````````````\\n\")\n",
    "print(\"Logistic Regression Classifier model\\n\")\n",
    "print(\"Confusion Matrix for Logistic Regression Classifier model\\n\", cm)\n",
    "print(\"\\n\\nAccuracy Score for Logistic Regression Classifier model\\n\", accuracy_score(y_test, y_pred))\n"
   ]
  },
  {
   "cell_type": "code",
   "execution_count": 9,
   "id": "07196c20",
   "metadata": {},
   "outputs": [
    {
     "data": {
      "image/png": "[encoded data removed]",
      "text/plain": [
       "<Figure size 432x288 with 2 Axes>"
      ]
     },
     "metadata": {
      "needs_background": "light"
     },
     "output_type": "display_data"
    },
    {
     "name": "stdout",
     "output_type": "stream",
     "text": [
      "Train Score Logistic Regression: 0.549412915851272\n",
      "Test Score Logistic Reegression: 0.548828125\n"
     ]
    }
   ],
   "source": [
    "confusion_matrix_visualization('Logistic Regression', 'Blues')\n",
    "\n",
    "print(\"Train Score Logistic Regression:\", classifier.score(X_train,y_train))\n",
    "print(\"Test Score Logistic Reegression:\", classifier.score(X_test,y_test))"
   ]
  },
  {
   "cell_type": "code",
   "execution_count": 10,
   "id": "b84597d7",
   "metadata": {},
   "outputs": [
    {
     "name": "stdout",
     "output_type": "stream",
     "text": [
      "\n",
      "K-Fold Cross Validation\n",
      "Accuracy: 53.77 %\n",
      "Standard Deviation: 2.60 %\n"
     ]
    }
   ],
   "source": [
    "# K-Fold Cross Validation\n",
    "from sklearn.model_selection import cross_val_score\n",
    "accuracies = cross_val_score(estimator = classifier, X = X_train, y = y_train, cv = 10)\n",
    "print(\"\\nK-Fold Cross Validation\\nAccuracy: {:.2f} %\".format(accuracies.mean()*100))\n",
    "print(\"Standard Deviation: {:.2f} %\".format(accuracies.std()*100))\n"
   ]
  },
  {
   "cell_type": "code",
   "execution_count": 11,
   "id": "fa359ae8",
   "metadata": {},
   "outputs": [
    {
     "data": {
      "image/png": "[encoded data removed]",
      "text/plain": [
       "<Figure size 432x288 with 1 Axes>"
      ]
     },
     "metadata": {
      "needs_background": "light"
     },
     "output_type": "display_data"
    }
   ],
   "source": [
    "from sklearn.metrics import roc_auc_score\n",
    "from sklearn.metrics import roc_curve\n",
    "logit_roc_auc = roc_auc_score(y_test, classifier.predict(X_test))\n",
    "fpr, tpr, thresholds = roc_curve(y_test, classifier.predict_proba(X_test)[:,1])\n",
    "plt.figure()\n",
    "plt.plot(fpr, tpr, label='Logistic Regression (area = %0.2f)' % logit_roc_auc)\n",
    "plt.plot([0, 1], [0, 1],'r--')\n",
    "plt.xlim([0.0, 1.0])\n",
    "plt.ylim([0.0, 1.05])\n",
    "plt.xlabel('False Positive Rate')\n",
    "plt.ylabel('True Positive Rate')\n",
    "plt.title('Receiver operating characteristic')\n",
    "plt.legend(loc=\"lower right\")\n",
    "plt.savefig('Log_ROC')\n",
    "plt.show()\n"
   ]
  },
  {
   "cell_type": "markdown",
   "id": "ec71d4d1",
   "metadata": {},
   "source": [
    "<h3>Decision trees</h3>\n",
    "<p>Decision Tree is a Supervised Machine Learning Algorithm that uses a set of rules to make decisions, similarly to how humans make decisions.Decision trees can perform both classification and regression tasks</p>\n",
    "<p>The intuition behind Decision Trees is that you use the dataset features to create yes/no questions and continually split the dataset until you isolate all data points belonging to each class.</p>\n"
   ]
  },
  {
   "cell_type": "code",
   "execution_count": 12,
   "id": "027cefa3",
   "metadata": {},
   "outputs": [],
   "source": [
    "# Training Decision Tree classifier  model on the training set\n",
    "from sklearn.tree import DecisionTreeClassifier\n",
    "classifier = DecisionTreeClassifier(criterion = 'entropy', random_state = 0)\n",
    "classifier.fit(X_train, y_train)\n",
    "\n",
    "y_pred = classifier.predict(X_test)"
   ]
  },
  {
   "cell_type": "code",
   "execution_count": 13,
   "id": "28b32506",
   "metadata": {},
   "outputs": [
    {
     "name": "stdout",
     "output_type": "stream",
     "text": [
      "``````````````````````````````````````````````````````\n",
      "\n",
      "Decision Tree classifier model\n",
      "\n",
      "Confusion Matrix for Decision Tree classifier model\n",
      " [[258   5]\n",
      " [  1 248]]\n",
      "\n",
      "\n",
      "Accuracy Score for Decision Tree classifier model\n",
      " 0.98828125\n"
     ]
    }
   ],
   "source": [
    "cm = confusion_matrix(y_test, y_pred)\n",
    "print(\"``````````````````````````````````````````````````````\\n\")\n",
    "print(\"Decision Tree classifier model\\n\")\n",
    "print(\"Confusion Matrix for Decision Tree classifier model\\n\", cm)\n",
    "print(\"\\n\\nAccuracy Score for Decision Tree classifier model\\n\", accuracy_score(y_test, y_pred))\n"
   ]
  },
  {
   "cell_type": "code",
   "execution_count": 14,
   "id": "b3de25a3",
   "metadata": {},
   "outputs": [
    {
     "data": {
      "image/png": "[encoded data removed]",
      "text/plain": [
       "<Figure size 432x288 with 2 Axes>"
      ]
     },
     "metadata": {
      "needs_background": "light"
     },
     "output_type": "display_data"
    },
    {
     "name": "stdout",
     "output_type": "stream",
     "text": [
      "Train Score for Decision Tree: 1.0\n",
      "Test Score for Decision Tree: 0.98828125\n"
     ]
    }
   ],
   "source": [
    "confusion_matrix_visualization('Decision Tree classifier', 'rocket')\n",
    "\n",
    "print(\"Train Score for Decision Tree:\", classifier.score(X_train,y_train))\n",
    "print(\"Test Score for Decision Tree:\", classifier.score(X_test,y_test))"
   ]
  },
  {
   "cell_type": "code",
   "execution_count": 15,
   "id": "91661447",
   "metadata": {},
   "outputs": [
    {
     "name": "stdout",
     "output_type": "stream",
     "text": [
      "\n",
      "K-Fold Cross Validation\n",
      "Accuracy: 99.51 %\n",
      "Standard Deviation: 0.38 %\n"
     ]
    }
   ],
   "source": [
    "# K-Fold Cross Validation\n",
    "accuracies = cross_val_score(estimator = classifier, X = X_train, y = y_train, cv = 10)\n",
    "print(\"\\nK-Fold Cross Validation\\nAccuracy: {:.2f} %\".format(accuracies.mean()*100))\n",
    "print(\"Standard Deviation: {:.2f} %\".format(accuracies.std()*100))\n",
    "\n",
    "\n"
   ]
  },
  {
   "cell_type": "markdown",
   "id": "5e7fb8ce",
   "metadata": {},
   "source": [
    "<h4>k-nearest neighbors (KNN)</h4>\n",
    "<p>The k-nearest neighbors (KNN) algorithm is a simple, easy-to-implement supervised machine learning algorithm that can be used to solve both classification and regression problems.</p>\n",
    "<p>The training examples are vectors in a multidimensional feature space, each with a class label. The training phase of the algorithm consists only of storing the feature vectors and class labels of the training samples.</p>\n",
    "<p>The KNN Algorithm\n",
    "1.Load the data<br>\n",
    "2.Initialize K to your chosen number of neighbors<br>\n",
    "3. For each example in the data<br>\n",
    "3.1 Calculate the distance between the query example and the current example from the data.<br>\n",
    "3.2 Add the distance and the index of the example to an ordered collection.<br>\n",
    "4. Sort the ordered collection of distances and indices from smallest to largest (in ascending order) by the distances<br>\n",
    "5. Pick the first K entries from the sorted collection<br>\n",
    "6. Get the labels of the selected K entries<br>\n",
    "7. If regression, return the mean of the K labels<br>\n",
    "8. If classification, return the mode of the K labels</p>\n"
   ]
  },
  {
   "cell_type": "code",
   "execution_count": 16,
   "id": "8577af84",
   "metadata": {},
   "outputs": [
    {
     "name": "stdout",
     "output_type": "stream",
     "text": [
      "``````````````````````````````````````````````````````\n",
      "\n",
      "K-NN Classifier model\n",
      "\n",
      "Confusion Matrix for K-NN Classifier model\n",
      " [[187  76]\n",
      " [106 143]]\n",
      "\n",
      "\n",
      "Accuracy Score for K-NN Classifier model\n",
      " 0.64453125\n"
     ]
    }
   ],
   "source": [
    "# ....Training K-NN model.... \n",
    "from sklearn.neighbors import KNeighborsClassifier\n",
    "classifier = KNeighborsClassifier(n_neighbors = 23, metric = 'minkowski', p = 2)\n",
    "classifier.fit(X_train, y_train)\n",
    "\n",
    "y_pred = classifier.predict(X_test)\n",
    "\n",
    "cm = confusion_matrix(y_test, y_pred)\n",
    "print(\"``````````````````````````````````````````````````````\\n\")\n",
    "print(\"K-NN Classifier model\\n\")\n",
    "print(\"Confusion Matrix for K-NN Classifier model\\n\",cm)\n",
    "print(\"\\n\\nAccuracy Score for K-NN Classifier model\\n\", accuracy_score(y_test, y_pred)) \n",
    "\n"
   ]
  },
  {
   "cell_type": "code",
   "execution_count": 17,
   "id": "dd56c180",
   "metadata": {},
   "outputs": [
    {
     "name": "stdout",
     "output_type": "stream",
     "text": [
      "``````````````````````````````````````````````````````\n",
      "\n",
      "K-NN Classifier model\n",
      "\n",
      "Confusion Matrix for K-NN Classifier model\n",
      " [[187  76]\n",
      " [106 143]]\n",
      "\n",
      "\n",
      "Accuracy Score for K-NN Classifier model\n",
      " 0.64453125\n"
     ]
    }
   ],
   "source": [
    "cm = confusion_matrix(y_test, y_pred)\n",
    "print(\"``````````````````````````````````````````````````````\\n\")\n",
    "print(\"K-NN Classifier model\\n\")\n",
    "print(\"Confusion Matrix for K-NN Classifier model\\n\",cm)\n",
    "print(\"\\n\\nAccuracy Score for K-NN Classifier model\\n\", accuracy_score(y_test, y_pred)) \n"
   ]
  },
  {
   "cell_type": "code",
   "execution_count": 18,
   "id": "afa929e8",
   "metadata": {},
   "outputs": [
    {
     "data": {
      "image/png": "[encoded data removed]",
      "text/plain": [
       "<Figure size 432x288 with 2 Axes>"
      ]
     },
     "metadata": {
      "needs_background": "light"
     },
     "output_type": "display_data"
    },
    {
     "name": "stdout",
     "output_type": "stream",
     "text": [
      "Train Score K-NN: 0.6912915851272016\n",
      "Test Score K-NN: 0.64453125\n"
     ]
    }
   ],
   "source": [
    "confusion_matrix_visualization('K-NN', 'cubehelix')\n",
    "\n",
    "print(\"Train Score K-NN:\", classifier.score(X_train,y_train))\n",
    "print(\"Test Score K-NN:\", classifier.score(X_test,y_test))"
   ]
  },
  {
   "cell_type": "code",
   "execution_count": 19,
   "id": "362faa83",
   "metadata": {},
   "outputs": [
    {
     "name": "stdout",
     "output_type": "stream",
     "text": [
      "\n",
      "K-Fold Cross Validation\n",
      "Accuracy: 62.03 %\n",
      "Standard Deviation: 2.23 %\n"
     ]
    }
   ],
   "source": [
    "# K-Fold Cross Validation\n",
    "accuracies = cross_val_score(estimator = classifier, X = X_train, y = y_train, cv = 10)\n",
    "print(\"\\nK-Fold Cross Validation\\nAccuracy: {:.2f} %\".format(accuracies.mean()*100))\n",
    "print(\"Standard Deviation: {:.2f} %\".format(accuracies.std()*100))"
   ]
  },
  {
   "cell_type": "markdown",
   "id": "d2abc3a3",
   "metadata": {},
   "source": [
    "<h5>The Random Forest Classifier</h5>\n",
    "<p>Random forest,consists of a large number of individual decision trees that operate as an ensemble. Each individual tree in the random forest spits out a class prediction and the class with the most votes becomes our model’s prediction.</p>\n",
    "<p>A large number of relatively uncorrelated models (trees) operating as a committee will outperform any of the individual constituent models.</p>\n",
    "<img src =\"https://imgs.search.brave.com/A4isyTogtJ3pON9Cy_-56W2nYjy-iWvctF5CsCJi-Uk/rs:fit:835:225:1/g:ce/aHR0cHM6Ly90c2Uz/Lm1tLmJpbmcubmV0/L3RoP2lkPU9JUC41/OGYxQ1o4TTRpbDBP/WllnMm9STjR3SGFF/TiZwaWQ9QXBp\">"
   ]
  },
  {
   "cell_type": "code",
   "execution_count": 20,
   "id": "8ca8ad01",
   "metadata": {},
   "outputs": [],
   "source": [
    "# .....Training Random Forest classifier  model.....\n",
    "from sklearn.ensemble import RandomForestClassifier\n",
    "classifier = RandomForestClassifier(n_estimators = 10, criterion = 'entropy', random_state = 0)\n",
    "classifier.fit(X_train, y_train)\n",
    "\n",
    "y_pred = classifier.predict(X_test)"
   ]
  },
  {
   "cell_type": "code",
   "execution_count": 21,
   "id": "0cb1aaf7",
   "metadata": {},
   "outputs": [
    {
     "name": "stdout",
     "output_type": "stream",
     "text": [
      "``````````````````````````````````````````````````````\n",
      "\n",
      "Random Forest Classifier Model\n",
      "\n",
      "Confusion Matrix for Random Forest classifier model\n",
      " [[228  35]\n",
      " [ 50 199]]\n",
      "\n",
      "\n",
      "Accuracy Score for Random Forest classifier model\n",
      " 0.833984375\n"
     ]
    }
   ],
   "source": [
    "# Confusion matrix for Random Forest classifier\n",
    "cm = confusion_matrix(y_test, y_pred)\n",
    "print(\"``````````````````````````````````````````````````````\\n\")\n",
    "print(\"Random Forest Classifier Model\\n\")\n",
    "print(\"Confusion Matrix for Random Forest classifier model\\n\",cm)\n",
    "print(\"\\n\\nAccuracy Score for Random Forest classifier model\\n\", accuracy_score(y_test, y_pred))\n",
    "\n",
    "\n",
    "\n"
   ]
  },
  {
   "cell_type": "code",
   "execution_count": 22,
   "id": "66e5a3bc",
   "metadata": {},
   "outputs": [
    {
     "data": {
      "image/png": "[encoded data removed]",
      "text/plain": [
       "<Figure size 432x288 with 2 Axes>"
      ]
     },
     "metadata": {
      "needs_background": "light"
     },
     "output_type": "display_data"
    },
    {
     "name": "stdout",
     "output_type": "stream",
     "text": [
      "Train Score for Random Forest classifier: 0.9921722113502935\n",
      "Test Score for Random Forest classifier: 0.833984375\n"
     ]
    }
   ],
   "source": [
    "confusion_matrix_visualization('Random Forest classifier', 'rocket')\n",
    "\n",
    "print(\"Train Score for Random Forest classifier:\", classifier.score(X_train,y_train))\n",
    "print(\"Test Score for Random Forest classifier:\", classifier.score(X_test,y_test))\n"
   ]
  },
  {
   "cell_type": "code",
   "execution_count": 23,
   "id": "84d26bc3",
   "metadata": {},
   "outputs": [
    {
     "name": "stdout",
     "output_type": "stream",
     "text": [
      "\n",
      "K-Fold Cross Validation\n",
      "Accuracy: 84.15 %\n",
      "Standard Deviation: 1.78 %\n"
     ]
    }
   ],
   "source": [
    "# K-Fold Cross Validation\n",
    "accuracies = cross_val_score(estimator = classifier, X = X_train, y = y_train, cv = 10)\n",
    "print(\"\\nK-Fold Cross Validation\\nAccuracy: {:.2f} %\".format(accuracies.mean()*100))\n",
    "print(\"Standard Deviation: {:.2f} %\".format(accuracies.std()*100))\n",
    "\n"
   ]
  },
  {
   "cell_type": "code",
   "execution_count": 24,
   "id": "be6b06dc",
   "metadata": {},
   "outputs": [],
   "source": [
    "# .....Training Naive Bayes model..... \n",
    "from sklearn.naive_bayes import GaussianNB\n",
    "classifier = GaussianNB()\n",
    "classifier.fit(X_train, y_train)\n",
    "\n",
    "y_pred = classifier.predict(X_test)"
   ]
  },
  {
   "cell_type": "code",
   "execution_count": 25,
   "id": "6d4b84d9",
   "metadata": {},
   "outputs": [
    {
     "name": "stdout",
     "output_type": "stream",
     "text": [
      "``````````````````````````````````````````````````````\n",
      "\n",
      "Naive Bayes Classifier model\n",
      "\n",
      "Confusion Matrix for Naive Bayes Classifier model\n",
      " [[173  90]\n",
      " [124 125]]\n",
      "\n",
      "\n",
      "Accuracy Score for Naive Bayes Classifier model\n",
      " 0.58203125\n"
     ]
    }
   ],
   "source": [
    "# Confusion matrix for Naive Bayes Classifier\n",
    "cm = confusion_matrix(y_test, y_pred)\n",
    "print(\"``````````````````````````````````````````````````````\\n\")\n",
    "print(\"Naive Bayes Classifier model\\n\")\n",
    "print(\"Confusion Matrix for Naive Bayes Classifier model\\n\",cm)\n",
    "print(\"\\n\\nAccuracy Score for Naive Bayes Classifier model\\n\", accuracy_score(y_test, y_pred))\n",
    "\n"
   ]
  },
  {
   "cell_type": "code",
   "execution_count": 26,
   "id": "65186bda",
   "metadata": {},
   "outputs": [
    {
     "data": {
      "image/png": "[encoded data removed]",
      "text/plain": [
       "<Figure size 432x288 with 2 Axes>"
      ]
     },
     "metadata": {
      "needs_background": "light"
     },
     "output_type": "display_data"
    },
    {
     "name": "stdout",
     "output_type": "stream",
     "text": [
      "Train Score for Naive Bayes: 0.5924657534246576\n",
      "Test Score for Naive Bayes: 0.58203125\n"
     ]
    }
   ],
   "source": [
    "confusion_matrix_visualization('Naive Bayes', 'magma')\n",
    "\n",
    "print(\"Train Score for Naive Bayes:\", classifier.score(X_train,y_train))\n",
    "print(\"Test Score for Naive Bayes:\", classifier.score(X_test,y_test))\n"
   ]
  },
  {
   "cell_type": "code",
   "execution_count": 27,
   "id": "2c70c5a8",
   "metadata": {},
   "outputs": [
    {
     "name": "stdout",
     "output_type": "stream",
     "text": [
      "\n",
      "K-Fold Cross Validation\n",
      "Accuracy: 57.98 %\n",
      "Standard Deviation: 2.13 %\n"
     ]
    }
   ],
   "source": [
    "# K-Fold Cross Validation\n",
    "accuracies = cross_val_score(estimator = classifier, X = X_train, y = y_train, cv = 10)\n",
    "print(\"\\nK-Fold Cross Validation\\nAccuracy: {:.2f} %\".format(accuracies.mean()*100))\n",
    "print(\"Standard Deviation: {:.2f} %\".format(accuracies.std()*100))\n"
   ]
  },
  {
   "cell_type": "code",
   "execution_count": 28,
   "id": "7a09c66b",
   "metadata": {},
   "outputs": [],
   "source": [
    "# .....Training SVM model.....\n",
    "from sklearn.svm import SVC\n",
    "classifier = SVC(kernel = 'linear', random_state = 0)\n",
    "classifier.fit(X_train, y_train)\n",
    "\n",
    "y_pred = classifier.predict(X_test)"
   ]
  },
  {
   "cell_type": "code",
   "execution_count": 29,
   "id": "c35f835a",
   "metadata": {},
   "outputs": [
    {
     "name": "stdout",
     "output_type": "stream",
     "text": [
      "``````````````````````````````````````````````````````\n",
      "\n",
      "SVM Classifier model\n",
      "\n",
      "Confusion Matrix for SVM Classifier model\n",
      " [[141 122]\n",
      " [107 142]]\n",
      "\n",
      "\n",
      "Accuracy Score for SVM Classifier model\n",
      " 0.552734375\n"
     ]
    }
   ],
   "source": [
    "# Confusion matrix for SVM Classifier\n",
    "cm = confusion_matrix(y_test, y_pred)\n",
    "print(\"``````````````````````````````````````````````````````\\n\")\n",
    "print(\"SVM Classifier model\\n\")\n",
    "print(\"Confusion Matrix for SVM Classifier model\\n\",cm)\n",
    "print(\"\\n\\nAccuracy Score for SVM Classifier model\\n\", accuracy_score(y_test, y_pred)) \n",
    "\n"
   ]
  },
  {
   "cell_type": "code",
   "execution_count": 30,
   "id": "4606c7db",
   "metadata": {},
   "outputs": [
    {
     "data": {
      "image/png": "[encoded data removed]",
      "text/plain": [
       "<Figure size 432x288 with 2 Axes>"
      ]
     },
     "metadata": {
      "needs_background": "light"
     },
     "output_type": "display_data"
    },
    {
     "name": "stdout",
     "output_type": "stream",
     "text": [
      "Train Score SVM: 0.5459882583170255\n",
      "Test Score SVM: 0.552734375\n"
     ]
    }
   ],
   "source": [
    "confusion_matrix_visualization('SVM', 'mako')\n",
    "\n",
    "print(\"Train Score SVM:\", classifier.score(X_train,y_train))\n",
    "print(\"Test Score SVM:\", classifier.score(X_test,y_test))\n"
   ]
  },
  {
   "cell_type": "code",
   "execution_count": 31,
   "id": "1db70a81",
   "metadata": {},
   "outputs": [
    {
     "name": "stdout",
     "output_type": "stream",
     "text": [
      "\n",
      "K-Fold Cross Validation\n",
      "Accuracy: 53.33 %\n",
      "Standard Deviation: 3.59 %\n"
     ]
    }
   ],
   "source": [
    "# K-Fold Cross Validation\n",
    "accuracies = cross_val_score(estimator = classifier, X = X_train, y = y_train, cv = 10)\n",
    "print(\"\\nK-Fold Cross Validation\\nAccuracy: {:.2f} %\".format(accuracies.mean()*100))\n",
    "print(\"Standard Deviation: {:.2f} %\".format(accuracies.std()*100))\n"
   ]
  },
  {
   "cell_type": "code",
   "execution_count": 32,
   "id": "0daf52b5",
   "metadata": {},
   "outputs": [],
   "source": [
    "# .....Training Kernel SVM model.....\n",
    "from sklearn.svm import SVC\n",
    "classifier = SVC(kernel = 'rbf', random_state = 0)\n",
    "classifier.fit(X_train, y_train)\n",
    "\n",
    "y_pred = classifier.predict(X_test)"
   ]
  },
  {
   "cell_type": "code",
   "execution_count": 33,
   "id": "63b3cc64",
   "metadata": {},
   "outputs": [
    {
     "name": "stdout",
     "output_type": "stream",
     "text": [
      "``````````````````````````````````````````````````````\n",
      "\n",
      "Kernel SVM Classifier model\n",
      "\n",
      "Confusion Matrix for Kernel SVM Classifier model\n",
      " [[182  81]\n",
      " [ 79 170]]\n",
      "\n",
      "\n",
      "Accuracy Score for kernel SVM Classifier model\n",
      " 0.6875\n"
     ]
    }
   ],
   "source": [
    "# Confusion matrix for Kernel SVM Classifier\n",
    "cm = confusion_matrix(y_test, y_pred)\n",
    "print(\"``````````````````````````````````````````````````````\\n\")\n",
    "print(\"Kernel SVM Classifier model\\n\")\n",
    "print(\"Confusion Matrix for Kernel SVM Classifier model\\n\",cm)\n",
    "print(\"\\n\\nAccuracy Score for kernel SVM Classifier model\\n\", accuracy_score(y_test, y_pred)) \n",
    "\n"
   ]
  },
  {
   "cell_type": "code",
   "execution_count": 34,
   "id": "57facba3",
   "metadata": {},
   "outputs": [
    {
     "data": {
      "image/png": "[encoded data removed]",
      "text/plain": [
       "<Figure size 432x288 with 2 Axes>"
      ]
     },
     "metadata": {
      "needs_background": "light"
     },
     "output_type": "display_data"
    },
    {
     "name": "stdout",
     "output_type": "stream",
     "text": [
      "Train Score for Kernel SVM: 0.7558708414872799\n",
      "Test Score for Kernel SVM: 0.6875\n"
     ]
    }
   ],
   "source": [
    "confusion_matrix_visualization('Kernel SVM', 'Greys')\n",
    "\n",
    "print(\"Train Score for Kernel SVM:\", classifier.score(X_train,y_train))\n",
    "print(\"Test Score for Kernel SVM:\", classifier.score(X_test,y_test))\n"
   ]
  },
  {
   "cell_type": "code",
   "execution_count": 35,
   "id": "43f6b9c0",
   "metadata": {},
   "outputs": [
    {
     "name": "stdout",
     "output_type": "stream",
     "text": [
      "\n",
      "K-Fold Cross Validation\n",
      "Accuracy: 65.36 %\n",
      "Standard Deviation: 1.34 %\n"
     ]
    }
   ],
   "source": [
    "# K-Fold Cross Validation\n",
    "accuracies = cross_val_score(estimator = classifier, X = X_train, y = y_train, cv = 10)\n",
    "print(\"\\nK-Fold Cross Validation\\nAccuracy: {:.2f} %\".format(accuracies.mean()*100))\n",
    "print(\"Standard Deviation: {:.2f} %\".format(accuracies.std()*100))\n",
    "\n"
   ]
  },
  {
   "cell_type": "markdown",
   "id": "24a19e3a",
   "metadata": {},
   "source": [
    "<h6>Artificial Neural Networks</h6>\n",
    "<p>Artificial Neural networks (ANN) or neural networks are computational algorithms.\n",
    "It intended to simulate the behavior of biological systems composed of “neurons”. \n",
    "ANNs are computational models inspired by an animal’s central nervous systems. \n",
    "It is capable of machine learning as well as pattern recognition. \n",
    "These presented as systems of interconnected “neurons” which can compute values from inputs.</p>\n",
    "<p>ANN layers</p>\n",
    "<p>Input layer – The activity of the input units represents the raw information that can feed into the network.<br>\n",
    "Hidden layer – To determine the activity of each hidden unit. The activities of the input units and the weights on the connections between the input and the hidden units. There may be one or more hidden layers.<br>\n",
    "Output layer – The behavior of the output units depends on the activity of the hidden units and the weights between the hidden and output units.</p>\n",
    "    "
   ]
  },
  {
   "cell_type": "code",
   "execution_count": 36,
   "id": "f1bd3dd2",
   "metadata": {},
   "outputs": [
    {
     "name": "stdout",
     "output_type": "stream",
     "text": [
      "Epoch 1/100\n",
      "64/64 [==============================] - 3s 6ms/step - loss: 0.7093 - accuracy: 0.4985\n",
      "Epoch 2/100\n",
      "64/64 [==============================] - 0s 4ms/step - loss: 0.6995 - accuracy: 0.4971\n",
      "Epoch 3/100\n",
      "64/64 [==============================] - 0s 4ms/step - loss: 0.6947 - accuracy: 0.5122\n",
      "Epoch 4/100\n",
      "64/64 [==============================] - 0s 4ms/step - loss: 0.6917 - accuracy: 0.5284\n",
      "Epoch 5/100\n",
      "64/64 [==============================] - 0s 5ms/step - loss: 0.6894 - accuracy: 0.5352\n",
      "Epoch 6/100\n",
      "64/64 [==============================] - 0s 5ms/step - loss: 0.6871 - accuracy: 0.5391\n",
      "Epoch 7/100\n",
      "64/64 [==============================] - 0s 5ms/step - loss: 0.6852 - accuracy: 0.5514\n",
      "Epoch 8/100\n",
      "64/64 [==============================] - 0s 6ms/step - loss: 0.6834 - accuracy: 0.5563\n",
      "Epoch 9/100\n",
      "64/64 [==============================] - 0s 5ms/step - loss: 0.6818 - accuracy: 0.5597\n",
      "Epoch 10/100\n",
      "64/64 [==============================] - 0s 5ms/step - loss: 0.6801 - accuracy: 0.5631\n",
      "Epoch 11/100\n",
      "64/64 [==============================] - 0s 5ms/step - loss: 0.6784 - accuracy: 0.5700\n",
      "Epoch 12/100\n",
      "64/64 [==============================] - 0s 6ms/step - loss: 0.6769 - accuracy: 0.5695\n",
      "Epoch 13/100\n",
      "64/64 [==============================] - 0s 6ms/step - loss: 0.6752 - accuracy: 0.5734\n",
      "Epoch 14/100\n",
      "64/64 [==============================] - 0s 6ms/step - loss: 0.6737 - accuracy: 0.5734\n",
      "Epoch 15/100\n",
      "64/64 [==============================] - 0s 5ms/step - loss: 0.6720 - accuracy: 0.5768\n",
      "Epoch 16/100\n",
      "64/64 [==============================] - 0s 7ms/step - loss: 0.6702 - accuracy: 0.5773\n",
      "Epoch 17/100\n",
      "64/64 [==============================] - 0s 7ms/step - loss: 0.6682 - accuracy: 0.5817\n",
      "Epoch 18/100\n",
      "64/64 [==============================] - 0s 7ms/step - loss: 0.6662 - accuracy: 0.5846\n",
      "Epoch 19/100\n",
      "64/64 [==============================] - 1s 9ms/step - loss: 0.6643 - accuracy: 0.5905\n",
      "Epoch 20/100\n",
      "64/64 [==============================] - 0s 7ms/step - loss: 0.6621 - accuracy: 0.5910\n",
      "Epoch 21/100\n",
      "64/64 [==============================] - 0s 6ms/step - loss: 0.6597 - accuracy: 0.5925\n",
      "Epoch 22/100\n",
      "64/64 [==============================] - 0s 6ms/step - loss: 0.6576 - accuracy: 0.5949\n",
      "Epoch 23/100\n",
      "64/64 [==============================] - 0s 8ms/step - loss: 0.6554 - accuracy: 0.6023\n",
      "Epoch 24/100\n",
      "64/64 [==============================] - 0s 6ms/step - loss: 0.6528 - accuracy: 0.6023\n",
      "Epoch 25/100\n",
      "64/64 [==============================] - 0s 6ms/step - loss: 0.6499 - accuracy: 0.6052\n",
      "Epoch 26/100\n",
      "64/64 [==============================] - 0s 7ms/step - loss: 0.6473 - accuracy: 0.6086\n",
      "Epoch 27/100\n",
      "64/64 [==============================] - 0s 6ms/step - loss: 0.6445 - accuracy: 0.6086\n",
      "Epoch 28/100\n",
      "64/64 [==============================] - 0s 6ms/step - loss: 0.6419 - accuracy: 0.6130\n",
      "Epoch 29/100\n",
      "64/64 [==============================] - 0s 7ms/step - loss: 0.6393 - accuracy: 0.6150\n",
      "Epoch 30/100\n",
      "64/64 [==============================] - 0s 7ms/step - loss: 0.6370 - accuracy: 0.6208\n",
      "Epoch 31/100\n",
      "64/64 [==============================] - 0s 7ms/step - loss: 0.6348 - accuracy: 0.6316\n",
      "Epoch 32/100\n",
      "64/64 [==============================] - 0s 7ms/step - loss: 0.6329 - accuracy: 0.6336\n",
      "Epoch 33/100\n",
      "64/64 [==============================] - 0s 5ms/step - loss: 0.6316 - accuracy: 0.6331\n",
      "Epoch 34/100\n",
      "64/64 [==============================] - 0s 5ms/step - loss: 0.6301 - accuracy: 0.6350\n",
      "Epoch 35/100\n",
      "64/64 [==============================] - 0s 5ms/step - loss: 0.6289 - accuracy: 0.6404\n",
      "Epoch 36/100\n",
      "64/64 [==============================] - 0s 5ms/step - loss: 0.6272 - accuracy: 0.6468\n",
      "Epoch 37/100\n",
      "64/64 [==============================] - 0s 5ms/step - loss: 0.6259 - accuracy: 0.6453\n",
      "Epoch 38/100\n",
      "64/64 [==============================] - 0s 6ms/step - loss: 0.6250 - accuracy: 0.6477\n",
      "Epoch 39/100\n",
      "64/64 [==============================] - 0s 5ms/step - loss: 0.6239 - accuracy: 0.6497\n",
      "Epoch 40/100\n",
      "64/64 [==============================] - 0s 7ms/step - loss: 0.6229 - accuracy: 0.6531\n",
      "Epoch 41/100\n",
      "64/64 [==============================] - 0s 6ms/step - loss: 0.6220 - accuracy: 0.6487\n",
      "Epoch 42/100\n",
      "64/64 [==============================] - 0s 4ms/step - loss: 0.6208 - accuracy: 0.6517\n",
      "Epoch 43/100\n",
      "64/64 [==============================] - 0s 4ms/step - loss: 0.6200 - accuracy: 0.6556\n",
      "Epoch 44/100\n",
      "64/64 [==============================] - 0s 4ms/step - loss: 0.6191 - accuracy: 0.6541\n",
      "Epoch 45/100\n",
      "64/64 [==============================] - 0s 4ms/step - loss: 0.6186 - accuracy: 0.6541\n",
      "Epoch 46/100\n",
      "64/64 [==============================] - 0s 4ms/step - loss: 0.6184 - accuracy: 0.6531\n",
      "Epoch 47/100\n",
      "64/64 [==============================] - 0s 4ms/step - loss: 0.6173 - accuracy: 0.6566\n",
      "Epoch 48/100\n",
      "64/64 [==============================] - 0s 4ms/step - loss: 0.6167 - accuracy: 0.6551\n",
      "Epoch 49/100\n",
      "64/64 [==============================] - 0s 4ms/step - loss: 0.6161 - accuracy: 0.6551\n",
      "Epoch 50/100\n",
      "64/64 [==============================] - 0s 4ms/step - loss: 0.6153 - accuracy: 0.6590\n",
      "Epoch 51/100\n",
      "64/64 [==============================] - 0s 4ms/step - loss: 0.6148 - accuracy: 0.6619\n",
      "Epoch 52/100\n",
      "64/64 [==============================] - 0s 4ms/step - loss: 0.6145 - accuracy: 0.6556\n",
      "Epoch 53/100\n",
      "64/64 [==============================] - 0s 4ms/step - loss: 0.6138 - accuracy: 0.6610\n",
      "Epoch 54/100\n",
      "64/64 [==============================] - 0s 5ms/step - loss: 0.6134 - accuracy: 0.6605\n",
      "Epoch 55/100\n",
      "64/64 [==============================] - 0s 4ms/step - loss: 0.6129 - accuracy: 0.6610\n",
      "Epoch 56/100\n",
      "64/64 [==============================] - 0s 4ms/step - loss: 0.6124 - accuracy: 0.6551\n",
      "Epoch 57/100\n",
      "64/64 [==============================] - 0s 5ms/step - loss: 0.6120 - accuracy: 0.6614\n",
      "Epoch 58/100\n",
      "64/64 [==============================] - 0s 4ms/step - loss: 0.6120 - accuracy: 0.6644\n",
      "Epoch 59/100\n",
      "64/64 [==============================] - 0s 4ms/step - loss: 0.6113 - accuracy: 0.6614\n",
      "Epoch 60/100\n",
      "64/64 [==============================] - 0s 4ms/step - loss: 0.6110 - accuracy: 0.6610\n",
      "Epoch 61/100\n",
      "64/64 [==============================] - 0s 4ms/step - loss: 0.6104 - accuracy: 0.6624\n",
      "Epoch 62/100\n",
      "64/64 [==============================] - 0s 5ms/step - loss: 0.6104 - accuracy: 0.6624\n",
      "Epoch 63/100\n",
      "64/64 [==============================] - 0s 4ms/step - loss: 0.6100 - accuracy: 0.6634\n",
      "Epoch 64/100\n",
      "64/64 [==============================] - 0s 4ms/step - loss: 0.6102 - accuracy: 0.6590\n",
      "Epoch 65/100\n",
      "64/64 [==============================] - 0s 4ms/step - loss: 0.6097 - accuracy: 0.6585\n",
      "Epoch 66/100\n",
      "64/64 [==============================] - 0s 4ms/step - loss: 0.6094 - accuracy: 0.6614\n",
      "Epoch 67/100\n",
      "64/64 [==============================] - 0s 4ms/step - loss: 0.6090 - accuracy: 0.6634\n",
      "Epoch 68/100\n",
      "64/64 [==============================] - 0s 4ms/step - loss: 0.6086 - accuracy: 0.6629\n",
      "Epoch 69/100\n",
      "64/64 [==============================] - 0s 3ms/step - loss: 0.6086 - accuracy: 0.6600\n",
      "Epoch 70/100\n",
      "64/64 [==============================] - 0s 4ms/step - loss: 0.6081 - accuracy: 0.6605\n",
      "Epoch 71/100\n",
      "64/64 [==============================] - 0s 3ms/step - loss: 0.6078 - accuracy: 0.6629\n",
      "Epoch 72/100\n",
      "64/64 [==============================] - 0s 4ms/step - loss: 0.6079 - accuracy: 0.6610\n",
      "Epoch 73/100\n",
      "64/64 [==============================] - 0s 4ms/step - loss: 0.6072 - accuracy: 0.6614\n",
      "Epoch 74/100\n",
      "64/64 [==============================] - 0s 4ms/step - loss: 0.6070 - accuracy: 0.6605\n",
      "Epoch 75/100\n",
      "64/64 [==============================] - 0s 4ms/step - loss: 0.6072 - accuracy: 0.6600\n",
      "Epoch 76/100\n",
      "64/64 [==============================] - 0s 4ms/step - loss: 0.6064 - accuracy: 0.6644\n",
      "Epoch 77/100\n",
      "64/64 [==============================] - 0s 4ms/step - loss: 0.6058 - accuracy: 0.6639\n",
      "Epoch 78/100\n",
      "64/64 [==============================] - 0s 4ms/step - loss: 0.6052 - accuracy: 0.6654\n",
      "Epoch 79/100\n",
      "64/64 [==============================] - 0s 4ms/step - loss: 0.6053 - accuracy: 0.6639\n",
      "Epoch 80/100\n",
      "64/64 [==============================] - 0s 5ms/step - loss: 0.6052 - accuracy: 0.6614\n",
      "Epoch 81/100\n",
      "64/64 [==============================] - 0s 4ms/step - loss: 0.6044 - accuracy: 0.6659\n",
      "Epoch 82/100\n",
      "64/64 [==============================] - 0s 4ms/step - loss: 0.6039 - accuracy: 0.6654\n",
      "Epoch 83/100\n",
      "64/64 [==============================] - 0s 4ms/step - loss: 0.6038 - accuracy: 0.6668\n",
      "Epoch 84/100\n",
      "64/64 [==============================] - 0s 4ms/step - loss: 0.6037 - accuracy: 0.6654\n",
      "Epoch 85/100\n",
      "64/64 [==============================] - 0s 3ms/step - loss: 0.6033 - accuracy: 0.6673\n",
      "Epoch 86/100\n",
      "64/64 [==============================] - 0s 4ms/step - loss: 0.6031 - accuracy: 0.6668\n",
      "Epoch 87/100\n",
      "64/64 [==============================] - 0s 3ms/step - loss: 0.6030 - accuracy: 0.6678\n",
      "Epoch 88/100\n",
      "64/64 [==============================] - 0s 4ms/step - loss: 0.6023 - accuracy: 0.6673\n",
      "Epoch 89/100\n",
      "64/64 [==============================] - 0s 4ms/step - loss: 0.6023 - accuracy: 0.6668\n",
      "Epoch 90/100\n",
      "64/64 [==============================] - 0s 4ms/step - loss: 0.6019 - accuracy: 0.6678\n",
      "Epoch 91/100\n",
      "64/64 [==============================] - 0s 4ms/step - loss: 0.6018 - accuracy: 0.6644\n",
      "Epoch 92/100\n",
      "64/64 [==============================] - 0s 3ms/step - loss: 0.6017 - accuracy: 0.6668\n",
      "Epoch 93/100\n",
      "64/64 [==============================] - 0s 4ms/step - loss: 0.6016 - accuracy: 0.6659\n",
      "Epoch 94/100\n",
      "64/64 [==============================] - 0s 4ms/step - loss: 0.6012 - accuracy: 0.6649\n",
      "Epoch 95/100\n",
      "64/64 [==============================] - 0s 4ms/step - loss: 0.6009 - accuracy: 0.6654\n",
      "Epoch 96/100\n",
      "64/64 [==============================] - 0s 4ms/step - loss: 0.6007 - accuracy: 0.6668\n",
      "Epoch 97/100\n",
      "64/64 [==============================] - 0s 4ms/step - loss: 0.6004 - accuracy: 0.6654\n",
      "Epoch 98/100\n",
      "64/64 [==============================] - 0s 4ms/step - loss: 0.5999 - accuracy: 0.6688\n",
      "Epoch 99/100\n",
      "64/64 [==============================] - 0s 5ms/step - loss: 0.6002 - accuracy: 0.6683\n",
      "Epoch 100/100\n",
      "64/64 [==============================] - 0s 4ms/step - loss: 0.6001 - accuracy: 0.6663\n",
      "[[0 0]\n",
      " [1 0]\n",
      " [0 1]\n",
      " ...\n",
      " [0 1]\n",
      " [0 1]\n",
      " [0 1]]\n"
     ]
    }
   ],
   "source": [
    "# .....Training ANN model.....\n",
    "ann = tf.keras.models.Sequential()\n",
    "\n",
    "# Input layer\n",
    "ann.add(tf.keras.layers.Dense(units = 6, activation = 'relu'))\n",
    "\n",
    "# Second hidden layer\n",
    "ann.add(tf.keras.layers.Dense(units = 6, activation = 'relu'))\n",
    "\n",
    "# Output layer\n",
    "ann.add(tf.keras.layers.Dense(units = 1, activation = 'sigmoid'))\n",
    "\n",
    "# Compiling ANN\n",
    "ann.compile(optimizer = 'adam', loss = 'binary_crossentropy', metrics = ['accuracy'])\n",
    "\n",
    "# Training ANN\n",
    "ann.fit(X_train, y_train, batch_size = 32, epochs = 100)\n",
    "\n",
    "y_pred = ann.predict(X_test)\n",
    "y_pred = (y_pred > 0.5)\n",
    "print(np.concatenate((y_pred.reshape(len(y_pred), 1),\n",
    "                      y_test.reshape(len(y_test), 1)),\n",
    "                     1))\n"
   ]
  },
  {
   "cell_type": "code",
   "execution_count": 37,
   "id": "860a534d",
   "metadata": {},
   "outputs": [
    {
     "name": "stdout",
     "output_type": "stream",
     "text": [
      "``````````````````````````````````````````````````````\n",
      "\n",
      "ANN model\n",
      "\n",
      "Confusion Matrix for ANN model\n",
      " [[168  95]\n",
      " [ 92 157]]\n",
      "\n",
      "\n",
      "Accuracy Score for ANN model\n",
      " 0.634765625\n"
     ]
    }
   ],
   "source": [
    "# Confusion matrix for ANN\n",
    "cm = confusion_matrix(y_test, y_pred)\n",
    "print(\"``````````````````````````````````````````````````````\\n\")\n",
    "print(\"ANN model\\n\")\n",
    "print(\"Confusion Matrix for ANN model\\n\",cm)\n",
    "print(\"\\n\\nAccuracy Score for ANN model\\n\", accuracy_score(y_test, y_pred)) \n",
    "\n"
   ]
  },
  {
   "cell_type": "code",
   "execution_count": 38,
   "id": "df6242a6",
   "metadata": {},
   "outputs": [
    {
     "data": {
      "image/png": "[encoded data removed]",
      "text/plain": [
       "<Figure size 432x288 with 2 Axes>"
      ]
     },
     "metadata": {
      "needs_background": "light"
     },
     "output_type": "display_data"
    },
    {
     "data": {
      "text/plain": [
       "'\\n#print(\"Train Score for ANN:\", ann.score(X_train,y_train))\\nprint(\"Test Score for ANN:\", ann.ann[\"val_loss\"](X_test,y_test))\\n\\n# K-Fold Cross Validation\\naccuracies = cross_val_score(estimator = ann, X = X_train, y = y_train, cv = 10)\\nprint(\"\\nK-Fold Cross Validation\\nAccuracy: {:.2f} %\".format(accuracies.mean()*100))\\nprint(\"Standard Deviation: {:.2f} %\".format(accuracies.std()*100))\\n'"
      ]
     },
     "execution_count": 38,
     "metadata": {},
     "output_type": "execute_result"
    }
   ],
   "source": [
    "confusion_matrix_visualization('ANN', 'icefire')\n",
    "\n",
    "'''\n",
    "#print(\"Train Score for ANN:\", ann.score(X_train,y_train))\n",
    "print(\"Test Score for ANN:\", ann.ann[\"val_loss\"](X_test,y_test))\n",
    "\n",
    "# K-Fold Cross Validation\n",
    "accuracies = cross_val_score(estimator = ann, X = X_train, y = y_train, cv = 10)\n",
    "print(\"\\nK-Fold Cross Validation\\nAccuracy: {:.2f} %\".format(accuracies.mean()*100))\n",
    "print(\"Standard Deviation: {:.2f} %\".format(accuracies.std()*100))\n",
    "'''"
   ]
  },
  {
   "cell_type": "code",
   "execution_count": 39,
   "id": "cae623c5",
   "metadata": {},
   "outputs": [
    {
     "name": "stderr",
     "output_type": "stream",
     "text": [
      "C:\\Users\\vijay\\anaconda3\\lib\\site-packages\\xgboost\\sklearn.py:888: UserWarning: The use of label encoder in XGBClassifier is deprecated and will be removed in a future release. To remove this warning, do the following: 1) Pass option use_label_encoder=False when constructing XGBClassifier object; and 2) Encode your labels (y) as integers starting with 0, i.e. 0, 1, 2, ..., [num_class - 1].\n",
      "  warnings.warn(label_encoder_deprecation_msg, UserWarning)\n"
     ]
    },
    {
     "name": "stdout",
     "output_type": "stream",
     "text": [
      "[23:09:32] WARNING: C:/Users/Administrator/workspace/xgboost-win64_release_1.3.0/src/learner.cc:1061: Starting in XGBoost 1.3.0, the default evaluation metric used with the objective 'binary:logistic' was changed from 'error' to 'logloss'. Explicitly set eval_metric if you'd like to restore the old behavior.\n",
      "``````````````````````````````````````````````````````\n",
      "\n",
      "XGBoost Classifier model\n",
      "\n",
      "Confusion Matrix for XGBoost Classifier model\n",
      " [[168  95]\n",
      " [ 92 157]]\n",
      "\n",
      "\n",
      "Accuracy Score for XGBoost Classifier model\n",
      " 0.634765625\n"
     ]
    }
   ],
   "source": [
    "# ......Training XGBoost Classifier...\n",
    "from xgboost import XGBClassifier\n",
    "classifier = XGBClassifier()\n",
    "classifier.fit(X_train, y_train)\n",
    "\n",
    "# Confusion matrix for XGBoost Classifier\n",
    "cm = confusion_matrix(y_test, y_pred)\n",
    "print(\"``````````````````````````````````````````````````````\\n\")\n",
    "print(\"XGBoost Classifier model\\n\")\n",
    "print(\"Confusion Matrix for XGBoost Classifier model\\n\",cm)\n",
    "print(\"\\n\\nAccuracy Score for XGBoost Classifier model\\n\", accuracy_score(y_test, y_pred)) \n",
    "\n"
   ]
  },
  {
   "cell_type": "code",
   "execution_count": 40,
   "id": "f7529833",
   "metadata": {},
   "outputs": [
    {
     "data": {
      "image/png": "[encoded data removed]",
      "text/plain": [
       "<Figure size 432x288 with 2 Axes>"
      ]
     },
     "metadata": {
      "needs_background": "light"
     },
     "output_type": "display_data"
    },
    {
     "name": "stdout",
     "output_type": "stream",
     "text": [
      "Train Score for XGBoost: 1.0\n",
      "Test Score for XGBoost: 0.990234375\n"
     ]
    }
   ],
   "source": [
    "confusion_matrix_visualization('XGBoost', 'flare')\n",
    "\n",
    "print(\"Train Score for XGBoost:\", classifier.score(X_train,y_train))\n",
    "print(\"Test Score for XGBoost:\", classifier.score(X_test,y_test))\n"
   ]
  },
  {
   "cell_type": "code",
   "execution_count": 41,
   "id": "e43e7ac1",
   "metadata": {},
   "outputs": [
    {
     "name": "stdout",
     "output_type": "stream",
     "text": [
      "[23:09:32] WARNING: C:/Users/Administrator/workspace/xgboost-win64_release_1.3.0/src/learner.cc:1061: Starting in XGBoost 1.3.0, the default evaluation metric used with the objective 'binary:logistic' was changed from 'error' to 'logloss'. Explicitly set eval_metric if you'd like to restore the old behavior.\n"
     ]
    },
    {
     "name": "stderr",
     "output_type": "stream",
     "text": [
      "C:\\Users\\vijay\\anaconda3\\lib\\site-packages\\xgboost\\sklearn.py:888: UserWarning: The use of label encoder in XGBClassifier is deprecated and will be removed in a future release. To remove this warning, do the following: 1) Pass option use_label_encoder=False when constructing XGBClassifier object; and 2) Encode your labels (y) as integers starting with 0, i.e. 0, 1, 2, ..., [num_class - 1].\n",
      "  warnings.warn(label_encoder_deprecation_msg, UserWarning)\n",
      "C:\\Users\\vijay\\anaconda3\\lib\\site-packages\\xgboost\\sklearn.py:888: UserWarning: The use of label encoder in XGBClassifier is deprecated and will be removed in a future release. To remove this warning, do the following: 1) Pass option use_label_encoder=False when constructing XGBClassifier object; and 2) Encode your labels (y) as integers starting with 0, i.e. 0, 1, 2, ..., [num_class - 1].\n",
      "  warnings.warn(label_encoder_deprecation_msg, UserWarning)\n",
      "C:\\Users\\vijay\\anaconda3\\lib\\site-packages\\xgboost\\sklearn.py:888: UserWarning: The use of label encoder in XGBClassifier is deprecated and will be removed in a future release. To remove this warning, do the following: 1) Pass option use_label_encoder=False when constructing XGBClassifier object; and 2) Encode your labels (y) as integers starting with 0, i.e. 0, 1, 2, ..., [num_class - 1].\n",
      "  warnings.warn(label_encoder_deprecation_msg, UserWarning)\n"
     ]
    },
    {
     "name": "stdout",
     "output_type": "stream",
     "text": [
      "[23:09:32] WARNING: C:/Users/Administrator/workspace/xgboost-win64_release_1.3.0/src/learner.cc:1061: Starting in XGBoost 1.3.0, the default evaluation metric used with the objective 'binary:logistic' was changed from 'error' to 'logloss'. Explicitly set eval_metric if you'd like to restore the old behavior.\n",
      "[23:09:33] WARNING: C:/Users/Administrator/workspace/xgboost-win64_release_1.3.0/src/learner.cc:1061: Starting in XGBoost 1.3.0, the default evaluation metric used with the objective 'binary:logistic' was changed from 'error' to 'logloss'. Explicitly set eval_metric if you'd like to restore the old behavior.\n"
     ]
    },
    {
     "name": "stderr",
     "output_type": "stream",
     "text": [
      "C:\\Users\\vijay\\anaconda3\\lib\\site-packages\\xgboost\\sklearn.py:888: UserWarning: The use of label encoder in XGBClassifier is deprecated and will be removed in a future release. To remove this warning, do the following: 1) Pass option use_label_encoder=False when constructing XGBClassifier object; and 2) Encode your labels (y) as integers starting with 0, i.e. 0, 1, 2, ..., [num_class - 1].\n",
      "  warnings.warn(label_encoder_deprecation_msg, UserWarning)\n",
      "C:\\Users\\vijay\\anaconda3\\lib\\site-packages\\xgboost\\sklearn.py:888: UserWarning: The use of label encoder in XGBClassifier is deprecated and will be removed in a future release. To remove this warning, do the following: 1) Pass option use_label_encoder=False when constructing XGBClassifier object; and 2) Encode your labels (y) as integers starting with 0, i.e. 0, 1, 2, ..., [num_class - 1].\n",
      "  warnings.warn(label_encoder_deprecation_msg, UserWarning)\n"
     ]
    },
    {
     "name": "stdout",
     "output_type": "stream",
     "text": [
      "[23:09:33] WARNING: C:/Users/Administrator/workspace/xgboost-win64_release_1.3.0/src/learner.cc:1061: Starting in XGBoost 1.3.0, the default evaluation metric used with the objective 'binary:logistic' was changed from 'error' to 'logloss'. Explicitly set eval_metric if you'd like to restore the old behavior.\n",
      "[23:09:33] WARNING: C:/Users/Administrator/workspace/xgboost-win64_release_1.3.0/src/learner.cc:1061: Starting in XGBoost 1.3.0, the default evaluation metric used with the objective 'binary:logistic' was changed from 'error' to 'logloss'. Explicitly set eval_metric if you'd like to restore the old behavior.\n"
     ]
    },
    {
     "name": "stderr",
     "output_type": "stream",
     "text": [
      "C:\\Users\\vijay\\anaconda3\\lib\\site-packages\\xgboost\\sklearn.py:888: UserWarning: The use of label encoder in XGBClassifier is deprecated and will be removed in a future release. To remove this warning, do the following: 1) Pass option use_label_encoder=False when constructing XGBClassifier object; and 2) Encode your labels (y) as integers starting with 0, i.e. 0, 1, 2, ..., [num_class - 1].\n",
      "  warnings.warn(label_encoder_deprecation_msg, UserWarning)\n"
     ]
    },
    {
     "name": "stdout",
     "output_type": "stream",
     "text": [
      "[23:09:33] WARNING: C:/Users/Administrator/workspace/xgboost-win64_release_1.3.0/src/learner.cc:1061: Starting in XGBoost 1.3.0, the default evaluation metric used with the objective 'binary:logistic' was changed from 'error' to 'logloss'. Explicitly set eval_metric if you'd like to restore the old behavior.\n"
     ]
    },
    {
     "name": "stderr",
     "output_type": "stream",
     "text": [
      "C:\\Users\\vijay\\anaconda3\\lib\\site-packages\\xgboost\\sklearn.py:888: UserWarning: The use of label encoder in XGBClassifier is deprecated and will be removed in a future release. To remove this warning, do the following: 1) Pass option use_label_encoder=False when constructing XGBClassifier object; and 2) Encode your labels (y) as integers starting with 0, i.e. 0, 1, 2, ..., [num_class - 1].\n",
      "  warnings.warn(label_encoder_deprecation_msg, UserWarning)\n"
     ]
    },
    {
     "name": "stdout",
     "output_type": "stream",
     "text": [
      "[23:09:33] WARNING: C:/Users/Administrator/workspace/xgboost-win64_release_1.3.0/src/learner.cc:1061: Starting in XGBoost 1.3.0, the default evaluation metric used with the objective 'binary:logistic' was changed from 'error' to 'logloss'. Explicitly set eval_metric if you'd like to restore the old behavior.\n"
     ]
    },
    {
     "name": "stderr",
     "output_type": "stream",
     "text": [
      "C:\\Users\\vijay\\anaconda3\\lib\\site-packages\\xgboost\\sklearn.py:888: UserWarning: The use of label encoder in XGBClassifier is deprecated and will be removed in a future release. To remove this warning, do the following: 1) Pass option use_label_encoder=False when constructing XGBClassifier object; and 2) Encode your labels (y) as integers starting with 0, i.e. 0, 1, 2, ..., [num_class - 1].\n",
      "  warnings.warn(label_encoder_deprecation_msg, UserWarning)\n"
     ]
    },
    {
     "name": "stdout",
     "output_type": "stream",
     "text": [
      "[23:09:34] WARNING: C:/Users/Administrator/workspace/xgboost-win64_release_1.3.0/src/learner.cc:1061: Starting in XGBoost 1.3.0, the default evaluation metric used with the objective 'binary:logistic' was changed from 'error' to 'logloss'. Explicitly set eval_metric if you'd like to restore the old behavior.\n"
     ]
    },
    {
     "name": "stderr",
     "output_type": "stream",
     "text": [
      "C:\\Users\\vijay\\anaconda3\\lib\\site-packages\\xgboost\\sklearn.py:888: UserWarning: The use of label encoder in XGBClassifier is deprecated and will be removed in a future release. To remove this warning, do the following: 1) Pass option use_label_encoder=False when constructing XGBClassifier object; and 2) Encode your labels (y) as integers starting with 0, i.e. 0, 1, 2, ..., [num_class - 1].\n",
      "  warnings.warn(label_encoder_deprecation_msg, UserWarning)\n",
      "C:\\Users\\vijay\\anaconda3\\lib\\site-packages\\xgboost\\sklearn.py:888: UserWarning: The use of label encoder in XGBClassifier is deprecated and will be removed in a future release. To remove this warning, do the following: 1) Pass option use_label_encoder=False when constructing XGBClassifier object; and 2) Encode your labels (y) as integers starting with 0, i.e. 0, 1, 2, ..., [num_class - 1].\n",
      "  warnings.warn(label_encoder_deprecation_msg, UserWarning)\n"
     ]
    },
    {
     "name": "stdout",
     "output_type": "stream",
     "text": [
      "[23:09:34] WARNING: C:/Users/Administrator/workspace/xgboost-win64_release_1.3.0/src/learner.cc:1061: Starting in XGBoost 1.3.0, the default evaluation metric used with the objective 'binary:logistic' was changed from 'error' to 'logloss'. Explicitly set eval_metric if you'd like to restore the old behavior.\n",
      "[23:09:34] WARNING: C:/Users/Administrator/workspace/xgboost-win64_release_1.3.0/src/learner.cc:1061: Starting in XGBoost 1.3.0, the default evaluation metric used with the objective 'binary:logistic' was changed from 'error' to 'logloss'. Explicitly set eval_metric if you'd like to restore the old behavior.\n",
      "\n",
      "K-Fold Cross Validation\n",
      "Accuracy: 99.56 %\n",
      "Standard Deviation: 0.34 %\n"
     ]
    }
   ],
   "source": [
    "# K-Fold Cross Validation\n",
    "accuracies = cross_val_score(estimator = classifier, X = X_train, y = y_train, cv = 10)\n",
    "print(\"\\nK-Fold Cross Validation\\nAccuracy: {:.2f} %\".format(accuracies.mean()*100))\n",
    "print(\"Standard Deviation: {:.2f} %\".format(accuracies.std()*100))\n"
   ]
  },
  {
   "cell_type": "code",
   "execution_count": 42,
   "id": "0b579dda",
   "metadata": {},
   "outputs": [
    {
     "data": {
      "text/plain": [
       "ExtraTreesClassifier(criterion='entropy', max_features=2, n_estimators=5)"
      ]
     },
     "execution_count": 42,
     "metadata": {},
     "output_type": "execute_result"
    }
   ],
   "source": [
    "#....Training Extra Tree Classifier\n",
    "from sklearn.ensemble import ExtraTreesClassifier\n",
    "classifier = ExtraTreesClassifier(n_estimators = 5, \n",
    "                           criterion = 'entropy',\n",
    "                           max_features = 2)\n",
    "classifier.fit(X_train, y_train)"
   ]
  },
  {
   "cell_type": "code",
   "execution_count": 43,
   "id": "aaca3784",
   "metadata": {},
   "outputs": [
    {
     "name": "stdout",
     "output_type": "stream",
     "text": [
      "``````````````````````````````````````````````````````\n",
      "\n",
      "Extra Tree Classifier model\n",
      "\n",
      "Confusion Matrix for Extra Tree Classifier model\n",
      " [[168  95]\n",
      " [ 92 157]]\n",
      "\n",
      "\n",
      "Accuracy Score for Extra Tree Classifier model\n",
      " 0.634765625\n"
     ]
    }
   ],
   "source": [
    "# Confusion matrix for Extra Tree Classifier\n",
    "cm = confusion_matrix(y_test, y_pred)\n",
    "print(\"``````````````````````````````````````````````````````\\n\")\n",
    "print(\"Extra Tree Classifier model\\n\")\n",
    "print(\"Confusion Matrix for Extra Tree Classifier model\\n\",cm)\n",
    "print(\"\\n\\nAccuracy Score for Extra Tree Classifier model\\n\", accuracy_score(y_test, y_pred)) \n",
    "\n"
   ]
  },
  {
   "cell_type": "code",
   "execution_count": 44,
   "id": "bade22a9",
   "metadata": {},
   "outputs": [
    {
     "data": {
      "image/png": "[encoded data removed]",
      "text/plain": [
       "<Figure size 432x288 with 2 Axes>"
      ]
     },
     "metadata": {
      "needs_background": "light"
     },
     "output_type": "display_data"
    },
    {
     "name": "stdout",
     "output_type": "stream",
     "text": [
      "Train Score for Extra Tree: 1.0\n",
      "Test Score for Extra Tree: 0.650390625\n"
     ]
    }
   ],
   "source": [
    "confusion_matrix_visualization('Extra Tree', 'rocket')\n",
    "\n",
    "print(\"Train Score for Extra Tree:\", classifier.score(X_train,y_train))\n",
    "print(\"Test Score for Extra Tree:\", classifier.score(X_test,y_test))\n"
   ]
  },
  {
   "cell_type": "code",
   "execution_count": 45,
   "id": "6845428c",
   "metadata": {},
   "outputs": [
    {
     "name": "stdout",
     "output_type": "stream",
     "text": [
      "\n",
      "K-Fold Cross Validation\n",
      "Accuracy: 66.19 %\n",
      "Standard Deviation: 2.32 %\n"
     ]
    }
   ],
   "source": [
    "# K-Fold Cross Validation\n",
    "accuracies = cross_val_score(estimator = classifier, X = X_train, y = y_train, cv = 10)\n",
    "print(\"\\nK-Fold Cross Validation\\nAccuracy: {:.2f} %\".format(accuracies.mean()*100))\n",
    "print(\"Standard Deviation: {:.2f} %\".format(accuracies.std()*100))\n"
   ]
  },
  {
   "cell_type": "code",
   "execution_count": 46,
   "id": "12bab169",
   "metadata": {},
   "outputs": [],
   "source": [
    "# Ada Boost Classifier\n",
    "from sklearn.ensemble import AdaBoostClassifier\n",
    "classifier = AdaBoostClassifier(DecisionTreeClassifier(max_depth = 1),\n",
    "                                n_estimators = 200)\n",
    "classifier.fit(X_train, y_train)\n",
    "\n",
    "y_pred = classifier.predict(X_test)"
   ]
  },
  {
   "cell_type": "code",
   "execution_count": 47,
   "id": "ab85a671",
   "metadata": {},
   "outputs": [
    {
     "name": "stdout",
     "output_type": "stream",
     "text": [
      "``````````````````````````````````````````````````````\n",
      "\n",
      "AdaBoost Classifier model\n",
      "\n",
      "Confusion Matrix for AdaBoost Classifier model\n",
      " [[258   5]\n",
      " [  1 248]]\n",
      "\n",
      "\n",
      "Accuracy Score for AdaBoost Classifier model\n",
      " 0.98828125\n"
     ]
    }
   ],
   "source": [
    "# Confusion matrix for AdaBoost Classifier\n",
    "cm = confusion_matrix(y_test, y_pred)\n",
    "print(\"``````````````````````````````````````````````````````\\n\")\n",
    "print(\"AdaBoost Classifier model\\n\")\n",
    "print(\"Confusion Matrix for AdaBoost Classifier model\\n\",cm)\n",
    "print(\"\\n\\nAccuracy Score for AdaBoost Classifier model\\n\", accuracy_score(y_test, y_pred)) \n",
    "\n",
    "\n"
   ]
  },
  {
   "cell_type": "code",
   "execution_count": 48,
   "id": "a84d6024",
   "metadata": {},
   "outputs": [
    {
     "data": {
      "image/png": "[encoded data removed]",
      "text/plain": [
       "<Figure size 432x288 with 2 Axes>"
      ]
     },
     "metadata": {
      "needs_background": "light"
     },
     "output_type": "display_data"
    },
    {
     "name": "stdout",
     "output_type": "stream",
     "text": [
      "Train Score for AdaBoost: 1.0\n",
      "Test Score for AdaBoost: 0.98828125\n"
     ]
    }
   ],
   "source": [
    "confusion_matrix_visualization('AdaBoost', 'vlag')\n",
    "\n",
    "print(\"Train Score for AdaBoost:\", classifier.score(X_train,y_train))\n",
    "print(\"Test Score for AdaBoost:\", classifier.score(X_test,y_test))"
   ]
  },
  {
   "cell_type": "code",
   "execution_count": 49,
   "id": "eb90d196",
   "metadata": {},
   "outputs": [
    {
     "name": "stdout",
     "output_type": "stream",
     "text": [
      "\n",
      "K-Fold Cross Validation\n",
      "Accuracy: 99.51 %\n",
      "Standard Deviation: 0.38 %\n"
     ]
    }
   ],
   "source": [
    "# K-Fold Cross Validation\n",
    "accuracies = cross_val_score(estimator = classifier, X = X_train, y = y_train, cv = 10)\n",
    "print(\"\\nK-Fold Cross Validation\\nAccuracy: {:.2f} %\".format(accuracies.mean()*100))\n",
    "print(\"Standard Deviation: {:.2f} %\".format(accuracies.std()*100))\n"
   ]
  },
  {
   "cell_type": "code",
   "execution_count": 50,
   "id": "2b6ea3ae",
   "metadata": {},
   "outputs": [],
   "source": [
    "# Gradient Boosting Classifier\n",
    "from sklearn.ensemble import GradientBoostingClassifier\n",
    "classifier = GradientBoostingClassifier(learning_rate = 0.1)\n",
    "classifier.fit(X_train, y_train)\n",
    "\n",
    "y_pred = classifier.predict(X_test)"
   ]
  },
  {
   "cell_type": "code",
   "execution_count": 51,
   "id": "e26258fb",
   "metadata": {},
   "outputs": [
    {
     "name": "stdout",
     "output_type": "stream",
     "text": [
      "``````````````````````````````````````````````````````\n",
      "\n",
      "Gradient Boosting Classifier model\n",
      "\n",
      "Confusion Matrix for Gradient Boosting Classifier model\n",
      " [[258   5]\n",
      " [  1 248]]\n",
      "\n",
      "\n",
      "Accuracy Score for Gradient Boosting Classifier model\n",
      " 0.98828125\n"
     ]
    }
   ],
   "source": [
    "# Confusion matrix for Gradient Boostingt Classifier\n",
    "cm = confusion_matrix(y_test, y_pred)\n",
    "print(\"``````````````````````````````````````````````````````\\n\")\n",
    "print(\"Gradient Boosting Classifier model\\n\")\n",
    "print(\"Confusion Matrix for Gradient Boosting Classifier model\\n\",cm)\n",
    "print(\"\\n\\nAccuracy Score for Gradient Boosting Classifier model\\n\", accuracy_score(y_test, y_pred)) \n",
    "\n"
   ]
  },
  {
   "cell_type": "code",
   "execution_count": 52,
   "id": "e222a79b",
   "metadata": {},
   "outputs": [
    {
     "data": {
      "image/png": "[encoded data removed]",
      "text/plain": [
       "<Figure size 432x288 with 2 Axes>"
      ]
     },
     "metadata": {
      "needs_background": "light"
     },
     "output_type": "display_data"
    },
    {
     "name": "stdout",
     "output_type": "stream",
     "text": [
      "Train Score for Gradient Boosting: 1.0\n",
      "Test Score for Gradient Boosting: 0.98828125\n"
     ]
    }
   ],
   "source": [
    "confusion_matrix_visualization('Gradient Boosting', 'Spectral')\n",
    "\n",
    "print(\"Train Score for Gradient Boosting:\", classifier.score(X_train,y_train))\n",
    "print(\"Test Score for Gradient Boosting:\", classifier.score(X_test,y_test))\n"
   ]
  },
  {
   "cell_type": "code",
   "execution_count": 53,
   "id": "53417f77",
   "metadata": {},
   "outputs": [
    {
     "name": "stdout",
     "output_type": "stream",
     "text": [
      "\n",
      "K-Fold Cross Validation\n",
      "Accuracy: 99.51 %\n",
      "Standard Deviation: 0.38 %\n"
     ]
    }
   ],
   "source": [
    "# K-Fold Cross Validation\n",
    "accuracies = cross_val_score(estimator = classifier, X = X_train, y = y_train, cv = 10)\n",
    "print(\"\\nK-Fold Cross Validation\\nAccuracy: {:.2f} %\".format(accuracies.mean()*100))\n",
    "print(\"Standard Deviation: {:.2f} %\".format(accuracies.std()*100))\n"
   ]
  },
  {
   "cell_type": "code",
   "execution_count": 54,
   "id": "733b7bf4",
   "metadata": {},
   "outputs": [],
   "source": [
    "# Light Gradient Boosting Machine Classifier\n",
    "from lightgbm import LGBMClassifier\n",
    "classifier = LGBMClassifier()\n",
    "classifier.fit(X_train, y_train)\n",
    "\n",
    "y_pred = classifier.predict(X_test)\n"
   ]
  },
  {
   "cell_type": "code",
   "execution_count": 55,
   "id": "b23e1a09",
   "metadata": {},
   "outputs": [
    {
     "name": "stdout",
     "output_type": "stream",
     "text": [
      "``````````````````````````````````````````````````````\n",
      "\n",
      "Light Gradient Boosting Machine Classifier model\n",
      "\n",
      "Confusion Matrix for Light Gradient Boosting Machine Classifier model\n",
      " [[252  11]\n",
      " [  1 248]]\n",
      "\n",
      "\n",
      "Accuracy Score for Light Gradient Boosting Machine Classifier model\n",
      " 0.9765625\n"
     ]
    }
   ],
   "source": [
    "# Confusion matrix for Light Gradient Boosting Machine Classifier\n",
    "cm = confusion_matrix(y_test, y_pred)\n",
    "print(\"``````````````````````````````````````````````````````\\n\")\n",
    "print(\"Light Gradient Boosting Machine Classifier model\\n\")\n",
    "print(\"Confusion Matrix for Light Gradient Boosting Machine Classifier model\\n\",cm)\n",
    "print(\"\\n\\nAccuracy Score for Light Gradient Boosting Machine Classifier model\\n\", accuracy_score(y_test, y_pred)) \n",
    "\n"
   ]
  },
  {
   "cell_type": "code",
   "execution_count": 56,
   "id": "f64956c8",
   "metadata": {},
   "outputs": [
    {
     "data": {
      "image/png": "[encoded data removed]",
      "text/plain": [
       "<Figure size 432x288 with 2 Axes>"
      ]
     },
     "metadata": {
      "needs_background": "light"
     },
     "output_type": "display_data"
    },
    {
     "name": "stdout",
     "output_type": "stream",
     "text": [
      "Train Score for Light Gradient Boosting Machine: 1.0\n",
      "Test Score for Light Gradient Boosting Machine: 0.9765625\n"
     ]
    }
   ],
   "source": [
    "confusion_matrix_visualization('Light Gradient Boosting Machine', 'mako')\n",
    "\n",
    "print(\"Train Score for Light Gradient Boosting Machine:\", classifier.score(X_train,y_train))\n",
    "print(\"Test Score for Light Gradient Boosting Machine:\", classifier.score(X_test,y_test))\n"
   ]
  },
  {
   "cell_type": "code",
   "execution_count": 57,
   "id": "014ec677",
   "metadata": {},
   "outputs": [
    {
     "name": "stdout",
     "output_type": "stream",
     "text": [
      "\n",
      "K-Fold Cross Validation\n",
      "Accuracy: 98.38 %\n",
      "Standard Deviation: 1.49 %\n"
     ]
    }
   ],
   "source": [
    "# K-Fold Cross Validation\n",
    "accuracies = cross_val_score(estimator = classifier, X = X_train, y = y_train, cv = 10)\n",
    "print(\"\\nK-Fold Cross Validation\\nAccuracy: {:.2f} %\".format(accuracies.mean()*100))\n",
    "print(\"Standard Deviation: {:.2f} %\".format(accuracies.std()*100))\n"
   ]
  },
  {
   "cell_type": "code",
   "execution_count": null,
   "id": "6979c69e",
   "metadata": {},
   "outputs": [],
   "source": []
  }
 ],
 "metadata": {
  "kernelspec": {
   "display_name": "Python 3 (ipykernel)",
   "language": "python",
   "name": "python3"
  },
  "language_info": {
   "codemirror_mode": {
    "name": "ipython",
    "version": 3
   },
   "file_extension": ".py",
   "mimetype": "text/x-python",
   "name": "python",
   "nbconvert_exporter": "python",
   "pygments_lexer": "ipython3",
   "version": "3.8.12"
  }
 },
 "nbformat": 4,
 "nbformat_minor": 5
}
