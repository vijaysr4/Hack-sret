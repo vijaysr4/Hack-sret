{
  "cells": [
    {
      "cell_type": "code",
      "execution_count": 1,
      "metadata": {
        "id": "MdnxbGroufsF"
      },
      "outputs": [],
      "source": [
        "# Importing Libraries\n",
        "import pandas as pd\n",
        "import numpy as np\n",
        "import seaborn as sns\n",
        "import tensorflow as tf\n",
        "import plotly.express as ex\n",
        "import matplotlib.pyplot as plt\n",
        "from sklearn.metrics import confusion_matrix, accuracy_score\n",
        "from sklearn.model_selection import cross_val_score"
      ]
    },
    {
      "cell_type": "code",
      "execution_count": 3,
      "metadata": {
        "id": "yVZjFpwrum4a"
      },
      "outputs": [],
      "source": [
        "# Load dataset\n",
        "df = pd.read_csv(\"/content/water_potability.csv\")"
      ]
    },
    {
      "cell_type": "code",
      "execution_count": 4,
      "metadata": {
        "id": "OIRxAT_lusSA"
      },
      "outputs": [],
      "source": [
        "for col in ['Sulfate','ph','Trihalomethanes']:\n",
        "    missing_label_0 = df.query('Potability == 0')[col][df[col].isna()].index\n",
        "    df.loc[missing_label_0,col] = df.query('Potability == 0')[col][df[col].notna()].mean()\n",
        "\n",
        "    missing_label_1 = df.query('Potability == 1')[col][df[col].isna()].index\n",
        "    df.loc[missing_label_1,col] = df.query('Potability == 1')[col][df[col].notna()].mean()            \n",
        "                                                                   \n",
        "X = df.iloc[:,:-1].values\n",
        "y = df.iloc[:,-1].values\n"
      ]
    },
    {
      "cell_type": "code",
      "execution_count": 6,
      "metadata": {
        "id": "A9ucNKlGvFei"
      },
      "outputs": [],
      "source": [
        "# Splititng Train and Test dataset\n",
        "from sklearn.model_selection import train_test_split\n",
        "X_train,X_test,y_train,y_test = train_test_split(X, y, test_size = 0.2, random_state = 0, shuffle = True)\n"
      ]
    },
    {
      "cell_type": "code",
      "execution_count": 7,
      "metadata": {
        "id": "6vDWi9Zau8ni"
      },
      "outputs": [],
      "source": [
        "# Scaling\n",
        "from sklearn.preprocessing import StandardScaler\n",
        "sc = StandardScaler()\n",
        "X_train = sc.fit_transform(X_train)\n",
        "X_test = sc.transform(X_test)"
      ]
    },
    {
      "cell_type": "code",
      "execution_count": 8,
      "metadata": {
        "id": "bzgWu27Pu-2f"
      },
      "outputs": [],
      "source": [
        "# Light Gradient Boosting Machine Classifier\n",
        "from lightgbm import LGBMClassifier\n",
        "classifier = LGBMClassifier()\n",
        "classifier.fit(X_train, y_train)\n",
        "\n",
        "y_pred = classifier.predict(X_test)\n"
      ]
    },
    {
      "cell_type": "code",
      "execution_count": 11,
      "metadata": {
        "colab": {
          "base_uri": "https://localhost:8080/"
        },
        "id": "QwjgCgZEvPxu",
        "outputId": "dd436c8a-def6-4209-ae1b-2e998774ef0b"
      },
      "outputs": [
        {
          "data": {
            "text/plain": [
              "array([0])"
            ]
          },
          "execution_count": 11,
          "metadata": {},
          "output_type": "execute_result"
        }
      ],
      "source": [
        "from flask import Flask , render_template, url_for, redirect, request\n",
        "\n",
        "app = Flask(__name__) \n",
        "\n",
        "@app.route(\"/\")\n",
        "def home():\n",
        "    return render_template('Home.html')\n",
        "\n",
        "@app.route(\"/dataform\", methods=[\"POST\", \"GET\"])\n",
        "def dataform():\n",
        "    return render_template('Dataform.html')\n",
        "\n",
        "@app.route(\"/result\", methods=[\"POST\", \"GET\"])\n",
        "def result():\n",
        "    if request.method == 'POST':\n",
        "\n",
        "        Dict = {\"Ph\" : request.form.get(\"water_Ph\"),\n",
        "                \"Hardness\" : request.form.get(\"water_Hardness\"),\n",
        "                \"Solids\" : request.form.get(\"water_Solids\"),\n",
        "                \"Chloramine\" : request.form.get(\"water_Chloramine\") ,\n",
        "                \"Sulfate\" : request.form.get(\"water_Sulfate\"),\n",
        "                \"Conductivity\" : request.form.get(\"water_Conductivity\"),\n",
        "                \"Organic_Carbon\" : request.form.get(\"water_Organic_Carbon\"),\n",
        "                \"Trihalomethanes\" : request.form.get(\"water_Trihalomethanes\"),\n",
        "                \"water_Turbidity\" : request.form.get(\"water_Turbidity\"),\n",
        "                }\n",
        " \n",
        "        print(\"=================\")\n",
        "        print(Dict[\"Ph\"])\n",
        "        print(Dict[\"Hardness\"])\n",
        "        print(Dict[\"Solids\"])\n",
        "        print(Dict[\"Chloramine\"])\n",
        "        print(Dict[\"Sulfate\"])\n",
        "        print(Dict[\"Conductivity\"])\n",
        "        print(Dict[\"Organic_Carbon\"])\n",
        "        print(Dict[\"Trihalomethanes\"])\n",
        "        print(Dict[\"water_Turbidity\"])\n",
        "        print(\"=================\")\n",
        "        \n",
        "        Result = classifier.predict(sc.transform(int(Dict[\"Ph\"]), int(Dict[\"Hardness\"]), int(Dict[\"Solids\"]), int(Dict[\"Chloramine\"]), int(Dict[\"Sulfate\"]), int(Dict[\"Conductivity\"]),int(Dict[\"Organic_Carbon\"]), int(Dict[\"Trihalomethanes\"]), int(Dict[\"water_Turbidity\"]) ))\n",
        "\n",
        "        return render_template('Result.html', pt = \"Water Is Drinkable\") if Result == 1 else render_template('result.html', pt = \"Water is Not Drinkable\")\n",
        " \n",
        "app.run(debug = True)\n",
        " "
      ]
    }
  ],
  "metadata": {
    "colab": {
      "collapsed_sections": [],
      "name": "flask link.ipynb",
      "provenance": []
    },
    "kernelspec": {
      "display_name": "Python 3",
      "name": "python3"
    },
    "language_info": {
      "name": "python"
    }
  },
  "nbformat": 4,
  "nbformat_minor": 0
}
